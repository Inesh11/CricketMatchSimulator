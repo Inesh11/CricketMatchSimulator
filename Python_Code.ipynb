{
 "cells": [
  {
   "cell_type": "markdown",
   "id": "667c1586",
   "metadata": {},
   "source": [
    "#### Declaring the Variables For the Code"
   ]
  },
  {
   "cell_type": "code",
   "execution_count": null,
   "id": "02cd405c",
   "metadata": {},
   "outputs": [],
   "source": [
    "import random\n",
    "\n",
    "possible_actions = [1,2,3,4,5,6]\n",
    "choices = ['batting','bowling']\n",
    "user_score = 0\n",
    "computer_score = 0\n",
    "user_number = 0\n",
    "computer_number = 0\n",
    "innings = 0\n",
    "user_is = ''"
   ]
  },
  {
   "cell_type": "markdown",
   "id": "c967d138",
   "metadata": {},
   "source": [
    "#### Code for Tossing"
   ]
  },
  {
   "cell_type": "code",
   "execution_count": null,
   "id": "ef1aca50",
   "metadata": {
    "scrolled": true
   },
   "outputs": [],
   "source": [
    "user_selection = int(input(\"for odd type 1 or for even type 0: \"))\n",
    "user_action = int(input(\"Enter a number from (1 to 6) for toss: \"))\n",
    "computer_action = random.choice(possible_actions)\n",
    "print(f'computer number is {computer_action}')\n",
    "\n",
    "if user_selection == 1:\n",
    "    if (user_action + computer_action) % 2 == 1:\n",
    "        print('you won the toss')\n",
    "        user_is = input('batting or bowling: ').lower\n",
    "    else:\n",
    "        user_is = random.choice(choices)\n",
    "        print('Computer won the toss')\n",
    "\n",
    "elif user_selection == 0:\n",
    "    if (user_action + computer_action) % 2 == 0:\n",
    "        print('you won the toss')\n",
    "        user_is = input('batting or bowling: ').lower\n",
    "    else:\n",
    "        user_is = random.choice(choices)\n",
    "        print('Computer won the toss')\n",
    "print(f'congratulations you choose {user_is} first')"
   ]
  },
  {
   "cell_type": "markdown",
   "id": "7ca49f67",
   "metadata": {},
   "source": [
    "#### Game Simulation"
   ]
  },
  {
   "cell_type": "code",
   "execution_count": null,
   "id": "85e483b8",
   "metadata": {
    "scrolled": true
   },
   "outputs": [],
   "source": [
    "while innings != 2:\n",
    "    if user_is == 'batting':\n",
    "        user_number = int(input('Enter number from 1 to 6 to Bat: '))\n",
    "        computer_number = random.choice(possible_actions)\n",
    "        print(f'Computer choice: {computer_number}')\n",
    "        if user_number != computer_number:\n",
    "            user_score += user_number\n",
    "            print(f'Total Runs = {user_score}')\n",
    "        else:\n",
    "            print(\"it's an out\")\n",
    "            print(f'Total run = {user_score}')\n",
    "            user_is = 'bowling'\n",
    "            innings+=1\n",
    "        if innings == 1 and computer_score > user_score:\n",
    "            break\n",
    "\n",
    "    else:\n",
    "        print(f'you are {user_is}')\n",
    "        user_number = int(input('Enter number from 1 to 6 to Bowl: '))\n",
    "        computer_number = random.choice(possible_actions)\n",
    "        print(f'Computer choice: {computer_number}')\n",
    "        if user_number != computer_number:\n",
    "            computer_score += computer_number\n",
    "            print(f'Total Runs = {computer_score}')\n",
    "        else:\n",
    "            print(\"it's an out\")\n",
    "            print(f'Total run = {computer_score}')\n",
    "            user_is = 'batting'\n",
    "            innings += 1\n",
    "\n",
    "        if innings == 1 and computer_score > user_score:\n",
    "            break\n",
    "\n",
    "if computer_score > user_score:\n",
    "    print('Computer won the match')\n",
    "else:\n",
    "    print('yay you won the match')"
   ]
  }
 ],
 "metadata": {
  "kernelspec": {
   "display_name": "Python 3 (ipykernel)",
   "language": "python",
   "name": "python3"
  },
  "language_info": {
   "codemirror_mode": {
    "name": "ipython",
    "version": 3
   },
   "file_extension": ".py",
   "mimetype": "text/x-python",
   "name": "python",
   "nbconvert_exporter": "python",
   "pygments_lexer": "ipython3",
   "version": "3.11.4"
  }
 },
 "nbformat": 4,
 "nbformat_minor": 5
}
