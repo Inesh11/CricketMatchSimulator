{
 "cells": [
  {
   "cell_type": "code",
   "execution_count": 2,
   "id": "02cd405c",
   "metadata": {},
   "outputs": [],
   "source": [
    "import random\n",
    "\n",
    "possible_actions = [1,2,3,4,5,6]\n",
    "choices = ['batting','bowling']\n",
    "user_score = 0\n",
    "computer_score = 0\n",
    "user_number = 0\n",
    "computer_number = 0\n",
    "innings = 0\n",
    "user_is = ''"
   ]
  },
  {
   "cell_type": "code",
   "execution_count": 6,
   "id": "ef1aca50",
   "metadata": {
    "scrolled": true
   },
   "outputs": [
    {
     "name": "stdout",
     "output_type": "stream",
     "text": [
      "for odd type 1 or for even type 0: 1\n",
      "Enter a number from (1 to 6) for toss: 5\n",
      "computer number is 6\n",
      "you won the toss\n",
      "batting or bowlingbatting\n"
     ]
    }
   ],
   "source": [
    "user_selection = int(input(\"for odd type 1 or for even type 0: \"))\n",
    "user_action = int(input(\"Enter a number from (1 to 6) for toss: \"))\n",
    "computer_action = random.choice(possible_actions)\n",
    "print(f'computer number is {computer_action}')\n",
    "\n",
    "if user_selection == 1:\n",
    "    if (user_action + computer_action) % 2 == 1:\n",
    "        print('you won the toss')\n",
    "        user_is = input('batting or bowling: ').lower\n",
    "    else:\n",
    "        user_is = random.choice(choices)\n",
    "        print('Computer won the toss')\n",
    "\n",
    "elif user_selection == 0:\n",
    "    if (user_action + computer_action) % 2 == 0:\n",
    "        print('you won the toss')\n",
    "        user_is = input('batting or bowling: ').lower\n",
    "    else:\n",
    "        user_is = random.choice(choices)\n",
    "        print('Computer won the toss')"
   ]
  },
  {
   "cell_type": "code",
   "execution_count": 8,
   "id": "36ca1444",
   "metadata": {
    "scrolled": true
   },
   "outputs": [
    {
     "name": "stdout",
     "output_type": "stream",
     "text": [
      "Congradulation you choose batting\n"
     ]
    }
   ],
   "source": [
    "print(f'congratulations you choose {user_is} first')"
   ]
  },
  {
   "cell_type": "code",
   "execution_count": 9,
   "id": "85e483b8",
   "metadata": {},
   "outputs": [
    {
     "name": "stdout",
     "output_type": "stream",
     "text": [
      "you are batting\n",
      "enter number to bat: 5\n",
      "Computer choice: 1\n",
      "Total Runs = 5\n",
      "you are batting\n",
      "enter number to bat: 6\n",
      "Computer choice: 2\n",
      "Total Runs = 11\n",
      "you are batting\n",
      "enter number to bat: 5\n",
      "Computer choice: 2\n",
      "Total Runs = 16\n",
      "you are batting\n",
      "enter number to bat: 5\n",
      "Computer choice: 2\n",
      "Total Runs = 21\n",
      "you are batting\n",
      "enter number to bat: 5\n",
      "Computer choice: 6\n",
      "Total Runs = 26\n",
      "you are batting\n",
      "enter number to bat: 5\n",
      "Computer choice: 3\n",
      "Total Runs = 31\n",
      "you are batting\n",
      "enter number to bat: 6\n",
      "Computer choice: 6\n",
      "it's an out\n",
      "Total run = 31\n",
      "you are bowling\n",
      "enter number to bowl: 5\n",
      "Computer choice: 2\n",
      "Total Runs = 2\n",
      "you are bowling\n",
      "enter number to bowl: 6\n",
      "Computer choice: 3\n",
      "Total Runs = 5\n",
      "you are bowling\n",
      "enter number to bowl: 4\n",
      "Computer choice: 2\n",
      "Total Runs = 7\n",
      "you are bowling\n",
      "enter number to bowl: 3\n",
      "Computer choice: 4\n",
      "Total Runs = 11\n",
      "you are bowling\n",
      "enter number to bowl: 4\n",
      "Computer choice: 1\n",
      "Total Runs = 12\n",
      "you are bowling\n",
      "enter number to bowl: 4\n",
      "Computer choice: 2\n",
      "Total Runs = 14\n",
      "you are bowling\n",
      "enter number to bowl: 6\n",
      "Computer choice: 2\n",
      "Total Runs = 16\n",
      "you are bowling\n",
      "enter number to bowl: 4\n",
      "Computer choice: 2\n",
      "Total Runs = 18\n",
      "you are bowling\n",
      "enter number to bowl: 3\n",
      "Computer choice: 5\n",
      "Total Runs = 23\n",
      "you are bowling\n",
      "enter number to bowl: 6\n",
      "Computer choice: 6\n",
      "it's an out\n",
      "Total run = 23\n",
      "yay you won the match\n"
     ]
    }
   ],
   "source": [
    "while innings != 2:\n",
    "    if user_is == 'batting':\n",
    "        user_number = int(input('Enter number from 1 to 6 to Bat: '))\n",
    "        computer_number = random.choice(possible_actions)\n",
    "        print(f'Computer choice: {computer_number}')\n",
    "        if user_number != computer_number:\n",
    "            user_score += user_number\n",
    "            print(f'Total Runs = {user_score}')\n",
    "        else:\n",
    "            print(\"it's an out\")\n",
    "            print(f'Total run = {user_score}')\n",
    "            user_is = 'bowling'\n",
    "            innings+=1\n",
    "        if innings == 1 and computer_score > user_score:\n",
    "            break\n",
    "\n",
    "    else:\n",
    "        print(f'you are {user_is}')\n",
    "        user_number = int(input('Enter number from 1 to 6 to Bowl: '))\n",
    "        computer_number = random.choice(possible_actions)\n",
    "        print(f'Computer choice: {computer_number}')\n",
    "        if user_number != computer_number:\n",
    "            computer_score += computer_number\n",
    "            print(f'Total Runs = {computer_score}')\n",
    "        else:\n",
    "            print(\"it's an out\")\n",
    "            print(f'Total run = {computer_score}')\n",
    "            user_is = 'batting'\n",
    "            innings += 1\n",
    "\n",
    "        if innings == 1 and computer_score > user_score:\n",
    "            break\n",
    "\n",
    "if computer_score > user_score:\n",
    "    print('Computer won the match')\n",
    "else:\n",
    "    print('yay you won the match')"
   ]
  }
 ],
 "metadata": {
  "kernelspec": {
   "display_name": "Python 3 (ipykernel)",
   "language": "python",
   "name": "python3"
  },
  "language_info": {
   "codemirror_mode": {
    "name": "ipython",
    "version": 3
   },
   "file_extension": ".py",
   "mimetype": "text/x-python",
   "name": "python",
   "nbconvert_exporter": "python",
   "pygments_lexer": "ipython3",
   "version": "3.11.4"
  }
 },
 "nbformat": 4,
 "nbformat_minor": 5
}
